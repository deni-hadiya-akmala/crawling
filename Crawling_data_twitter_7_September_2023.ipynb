{
  "cells": [
    {
      "cell_type": "markdown",
      "metadata": {
        "id": "view-in-github",
        "colab_type": "text"
      },
      "source": [
        "<a href=\"https://colab.research.google.com/github/deni-hadiya-akmala/crawling/blob/main/Crawling_data_twitter_7_September_2023.ipynb\" target=\"_parent\"><img src=\"https://colab.research.google.com/assets/colab-badge.svg\" alt=\"Open In Colab\"/></a>"
      ]
    },
    {
      "cell_type": "code",
      "execution_count": null,
      "metadata": {
        "collapsed": true,
        "id": "4UIL1x21P9rQ",
        "colab": {
          "base_uri": "https://localhost:8080/"
        },
        "outputId": "547b3a74-4ff3-4011-c8d3-818250ffec1b"
      },
      "outputs": [
        {
          "output_type": "stream",
          "name": "stdout",
          "text": [
            "Collecting git+https://github.com/JustAnotherArchivist/snscrape.git\n",
            "  Cloning https://github.com/JustAnotherArchivist/snscrape.git to /tmp/pip-req-build-1sq96cs1\n",
            "  Running command git clone --filter=blob:none --quiet https://github.com/JustAnotherArchivist/snscrape.git /tmp/pip-req-build-1sq96cs1\n",
            "  Resolved https://github.com/JustAnotherArchivist/snscrape.git to commit 614d4c2029a62d348ca56598f87c425966aaec66\n",
            "  Installing build dependencies ... \u001b[?25l\u001b[?25hdone\n",
            "  Getting requirements to build wheel ... \u001b[?25l\u001b[?25hdone\n",
            "  Installing backend dependencies ... \u001b[?25l\u001b[?25hdone\n",
            "  Preparing metadata (pyproject.toml) ... \u001b[?25l\u001b[?25hdone\n",
            "Requirement already satisfied: requests[socks] in /usr/local/lib/python3.10/dist-packages (from snscrape==0.7.0.20230622) (2.27.1)\n",
            "Requirement already satisfied: lxml in /usr/local/lib/python3.10/dist-packages (from snscrape==0.7.0.20230622) (4.9.2)\n",
            "Requirement already satisfied: beautifulsoup4 in /usr/local/lib/python3.10/dist-packages (from snscrape==0.7.0.20230622) (4.11.2)\n",
            "Requirement already satisfied: filelock in /usr/local/lib/python3.10/dist-packages (from snscrape==0.7.0.20230622) (3.12.2)\n",
            "Requirement already satisfied: soupsieve>1.2 in /usr/local/lib/python3.10/dist-packages (from beautifulsoup4->snscrape==0.7.0.20230622) (2.4.1)\n",
            "Requirement already satisfied: urllib3<1.27,>=1.21.1 in /usr/local/lib/python3.10/dist-packages (from requests[socks]->snscrape==0.7.0.20230622) (1.26.16)\n",
            "Requirement already satisfied: certifi>=2017.4.17 in /usr/local/lib/python3.10/dist-packages (from requests[socks]->snscrape==0.7.0.20230622) (2023.5.7)\n",
            "Requirement already satisfied: charset-normalizer~=2.0.0 in /usr/local/lib/python3.10/dist-packages (from requests[socks]->snscrape==0.7.0.20230622) (2.0.12)\n",
            "Requirement already satisfied: idna<4,>=2.5 in /usr/local/lib/python3.10/dist-packages (from requests[socks]->snscrape==0.7.0.20230622) (3.4)\n",
            "Requirement already satisfied: PySocks!=1.5.7,>=1.5.6 in /usr/local/lib/python3.10/dist-packages (from requests[socks]->snscrape==0.7.0.20230622) (1.7.1)\n",
            "Building wheels for collected packages: snscrape\n",
            "  Building wheel for snscrape (pyproject.toml) ... \u001b[?25l\u001b[?25hdone\n",
            "  Created wheel for snscrape: filename=snscrape-0.7.0.20230622-py3-none-any.whl size=74814 sha256=2acb0a66e6acb5dbb72b740bb5cdc40e93eb986cbdc5d8afa4e33b9009dbd332\n",
            "  Stored in directory: /tmp/pip-ephem-wheel-cache-m881tyiv/wheels/05/e9/f7/57056e7c7e44b1feed932fa49fdec9d706c4f563e37160ab74\n",
            "Successfully built snscrape\n",
            "Installing collected packages: snscrape\n",
            "Successfully installed snscrape-0.7.0.20230622\n",
            "Requirement already satisfied: pandas in /usr/local/lib/python3.10/dist-packages (1.5.3)\n",
            "Requirement already satisfied: python-dateutil>=2.8.1 in /usr/local/lib/python3.10/dist-packages (from pandas) (2.8.2)\n",
            "Requirement already satisfied: pytz>=2020.1 in /usr/local/lib/python3.10/dist-packages (from pandas) (2022.7.1)\n",
            "Requirement already satisfied: numpy>=1.21.0 in /usr/local/lib/python3.10/dist-packages (from pandas) (1.22.4)\n",
            "Requirement already satisfied: six>=1.5 in /usr/local/lib/python3.10/dist-packages (from python-dateutil>=2.8.1->pandas) (1.16.0)\n"
          ]
        }
      ],
      "source": [
        "!pip3 install git+https://github.com/JustAnotherArchivist/snscrape.git\n",
        "!pip install pandas"
      ]
    },
    {
      "cell_type": "code",
      "execution_count": null,
      "metadata": {
        "colab": {
          "base_uri": "https://localhost:8080/"
        },
        "collapsed": true,
        "id": "HvAG3hPvQDqk",
        "outputId": "2dc19437-110b-403b-faba-c7246e6ec45a"
      },
      "outputs": [
        {
          "output_type": "stream",
          "name": "stdout",
          "text": [
            "snscrape --jsonl --max-results 1000 twitter-search  'tasyi lang:id since:2023-01-01 until:2023-06-13' > tasyi_lang-id_since-2023-01-01_until-2023-06-13_2023-07-08.json\n"
          ]
        },
        {
          "output_type": "execute_result",
          "data": {
            "text/plain": [
              "256"
            ]
          },
          "metadata": {},
          "execution_count": 2
        }
      ],
      "source": [
        "import os\n",
        "import datetime\n",
        "\n",
        "# Batasi jumlah hasil yang diambil\n",
        "max_results = 1000\n",
        "\n",
        "# Gunakan Twitter search untuk mencari tweet yang di-favoritkan minimal 10000 kali dan berbahasa Indonesia\n",
        "twitter_search = \"tasyi lang:id since:2023-01-01 until:2023-06-13\"\n",
        "\n",
        "# Tentukan nama file dengan format \"<kueri pencarian>_<tanggal saat ini>.json\"\n",
        "filename = f\"{twitter_search.replace(' ', '_').replace(':', '-').replace('#', '')}_{datetime.date.today().strftime('%Y-%m-%d')}.json\"\n",
        "\n",
        "USING_TOP_SEARCH = False\n",
        "\n",
        "snscrape_params = '--jsonl --max-results'\n",
        "twitter_search_params = ''\n",
        "\n",
        "if USING_TOP_SEARCH:\n",
        "    twitter_search_params += \"--top\"\n",
        "\n",
        "snscrape_search_query = f\"snscrape {snscrape_params} {max_results} twitter-search {twitter_search_params} '{twitter_search}' > {filename}\"\n",
        "\n",
        "print(snscrape_search_query)\n",
        "\n",
        "os.system(snscrape_search_query)"
      ]
    },
    {
      "cell_type": "code",
      "execution_count": null,
      "metadata": {
        "colab": {
          "base_uri": "https://localhost:8080/"
        },
        "id": "HX9eXO8cQpES",
        "outputId": "74b263b0-6c30-4d61-94f9-5ee3ee136252"
      },
      "outputs": [
        {
          "output_type": "stream",
          "name": "stdout",
          "text": [
            "Pencarian tidak ditemukan coba ganti keyword lain, keywordmu:  tasyi lang:id since:2023-01-01 until:2023-06-13\n"
          ]
        }
      ],
      "source": [
        "import pandas as pd\n",
        "import ast\n",
        "import json\n",
        "\n",
        "# Membaca file JSON hasil dari perintah CLI sebelumnya dan membuat dataframe pandas\n",
        "tweets_df = pd.read_json(filename, lines=True)\n",
        "\n",
        "NAMA_FILE_CSV = 'tasyi.csv'\n",
        "\n",
        "# Membuat kamus untuk mengganti nama kolom\n",
        "new_columns = {\n",
        "    'conversationId': 'Conv. ID',\n",
        "    'url': 'URL',\n",
        "    'date': 'Date',\n",
        "    'rawContent': 'Tweet',\n",
        "    'id': 'ID',\n",
        "    'replyCount': 'Replies',\n",
        "    'retweetCount': 'Retweets',\n",
        "    'likeCount': 'Likes',\n",
        "    'quoteCount': 'Quotes',\n",
        "    'bookmarkCount': 'Bookmarks',\n",
        "    'lang': 'Language',\n",
        "    'links': 'Links',\n",
        "    'media': 'Media',\n",
        "    'retweetedTweet': 'Retweeted Tweet',\n",
        "    'username': 'Username'\n",
        "}\n",
        "\n",
        "if len(tweets_df) == 0:\n",
        "    print('Pencarian tidak ditemukan coba ganti keyword lain, keywordmu: ', twitter_search)\n",
        "    exit()\n",
        "else:\n",
        "  # Memilih kolom yang akan digunakan dan mengganti nama kolom menggunakan kamus yang telah dibuat\n",
        "  tweets_df = tweets_df.loc[:, ['url', 'date', 'rawContent', 'id',\n",
        "                            'replyCount', 'retweetCount', 'likeCount', 'quoteCount',\n",
        "                            'conversationId', 'lang', 'links',\n",
        "                            'media', 'retweetedTweet', 'bookmarkCount', 'username']]\n",
        "  tweets_df = tweets_df.rename(columns=new_columns)\n",
        "\n",
        "  # Ekstrak fullUrl dari kolom media dan url dari kolom links\n",
        "  tweets_df['Media'] = tweets_df['Media'].apply(lambda x: x[0]['fullUrl'] if isinstance(x, list) and x and isinstance(x[0], dict) and 'fullUrl' in x[0] else None)\n",
        "  tweets_df['Links'] = tweets_df['Links'].apply(lambda x: x[0]['url'] if isinstance(x, list) and x and isinstance(x[0], dict) and 'url' in x[0] else None)\n",
        "\n",
        "  # Menampilkan dataframe tweets_df\n",
        "  display(tweets_df)\n",
        "\n",
        "  # Simpan ke csv\n",
        "  tweets_df.to_csv(NAMA_FILE_CSV, index=False)\n"
      ]
    },
    {
      "cell_type": "code",
      "execution_count": null,
      "metadata": {
        "colab": {
          "base_uri": "https://localhost:8080/"
        },
        "id": "eRfDl54waHC4",
        "outputId": "7dfbaf73-748a-4fcd-dd9e-c76c2182359a"
      },
      "outputs": [
        {
          "output_type": "stream",
          "name": "stdout",
          "text": [
            "Jumlah tweet dalam dataframe adalah 0.\n"
          ]
        }
      ],
      "source": [
        "# Cek jumlah data yang didapatkan\n",
        "\n",
        "num_tweets = len(tweets_df)\n",
        "print(f\"Jumlah tweet dalam dataframe adalah {num_tweets}.\")"
      ]
    }
  ],
  "metadata": {
    "colab": {
      "provenance": [],
      "include_colab_link": true
    },
    "kernelspec": {
      "display_name": "Python 3",
      "name": "python3"
    },
    "language_info": {
      "name": "python"
    }
  },
  "nbformat": 4,
  "nbformat_minor": 0
}